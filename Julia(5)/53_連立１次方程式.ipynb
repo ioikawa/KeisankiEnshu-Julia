{
 "cells": [
  {
   "cell_type": "markdown",
   "id": "1826cece-0868-4cb9-9de7-0178610d057b",
   "metadata": {},
   "source": [
    "# 連立１次方程式の数値解法\n",
    "\n",
    "## [`\\`演算子](https://docs.julialang.org/en/v1/stdlib/LinearAlgebra/#Base.:\\\\-Tuple{AbstractMatrix,%20AbstractVecOrMat})による数値解の計算\n",
    "$n$次正方行列 $A$, $n$項列ベクトル $b$ に対して，\n",
    "連立一次方程式 $Ax = b$ の解は `A\\b` で計算できる．"
   ]
  },
  {
   "cell_type": "code",
   "execution_count": 1,
   "id": "5a493046",
   "metadata": {},
   "outputs": [
    {
     "data": {
      "text/plain": [
       "3-element Vector{Float64}:\n",
       " -0.5000000000000002\n",
       "  2.0000000000000004\n",
       " -0.5000000000000002"
      ]
     },
     "metadata": {},
     "output_type": "display_data"
    }
   ],
   "source": [
    "A = [1 1 1; 1 2 3; 1 4 9]\n",
    "b = [1, 2, 3]\n",
    "A \\ b"
   ]
  },
  {
   "cell_type": "markdown",
   "id": "62b85147",
   "metadata": {},
   "source": [
    "出力された数値解は厳密解 $\\bm{x} = (-1/2, 2, -1/2)^T$ とほぼ一致している．  \n",
    "仮数部の末尾が0でないのは丸め誤差の影響である．\n",
    "\n",
    "念のため，行列式とランクを確かめておこう．"
   ]
  },
  {
   "cell_type": "code",
   "execution_count": 2,
   "id": "7c9cb99d",
   "metadata": {},
   "outputs": [
    {
     "name": "stdout",
     "output_type": "stream",
     "text": [
      "det(A) = 1.9999999999999996\n",
      "rank(A) = 3\n"
     ]
    }
   ],
   "source": [
    "using LinearAlgebra\n",
    "@show det(A) rank(A);"
   ]
  },
  {
   "cell_type": "markdown",
   "id": "26d01384",
   "metadata": {},
   "source": [
    "<div class=\"alert alert-warning\"> \n",
    "Warning: \n",
    "連立１次方程式の解は inv(A)*b でも得られるが，A\\b よりも効率が悪いので使われない．\n",
    "</div>"
   ]
  },
  {
   "cell_type": "markdown",
   "id": "a97aa7ac",
   "metadata": {},
   "source": [
    "## 悪条件な連立１次方程式\n",
    "連立１次方程式によっては，丸め誤差が増幅されて数値解が厳密解と大きく異なる場合がある．  \n",
    "そのような連立１次方程式（の係数行列）を悪条件であるという．\n",
    "\n",
    "$n$次Hilbert行列 $H = (h_{ij})$：\n",
    "$$\n",
    " h_{ij} := \\frac{1}{i+j-1}, \\qquad \n",
    " 1 \\le i, j \\le n.\n",
    "$$\n",
    "は $n$が大きいと，悪条件であることが知られている．\n",
    "\n",
    "連立一次方程式\n",
    "$$\n",
    "  H \\vec{x} = \\vec{b} := \\begin{pmatrix} 1 \\\\ 1 \\\\ \\vdots \\\\ 1 \n",
    "\\end{pmatrix}\n",
    "$$\n",
    "を`\\`演算子で数値解を計算してみよう．\n",
    "\n",
    "数値解の誤差を確認するために先に厳密解を求める．  \n",
    "Hilbert行列の逆行列の第$(i,j)$成分は整数値であり，\n",
    "$$\n",
    "  (-1)^{i+j}(i+j-1){\\binom {n+i-1}{n-j}}{\\binom {n+j-1}{n-i}}{\\binom {i+j-2}{i-1}}^{2}\n",
    "$$\n",
    "と書き表せる．ここで，$\\binom{p}{q}$ は二項係数である．\n",
    "（参考：[Wikipedia/HilbertMatrix](https://en.wikipedia.org/wiki/Hilbert_matrix)）\n",
    "\n"
   ]
  },
  {
   "cell_type": "code",
   "execution_count": 3,
   "id": "9a0c28cc",
   "metadata": {},
   "outputs": [
    {
     "ename": "ErrorException",
     "evalue": "cannot define function b; it already has a value",
     "output_type": "error",
     "traceback": [
      "cannot define function b; it already has a value\n",
      "\n",
      "Stacktrace:\n",
      " [1] top-level scope\n",
      "   @ none:0"
     ]
    }
   ],
   "source": [
    "n = 16\n",
    "# Hilbert行列の逆行列．整数型で定義する．\n",
    "hilbert_inv(n) = Int64[(-1)^(i+j)*(i+j-1)*binomial(n+i-1,n-j)*binomial(n+j-1,n-i)*binomial(i+j-2,i-1)^2 for i in 1:n, j in 1:n]\n",
    "\n",
    "b(n) = ones(Int64, n) # 右辺のベクトル\n",
    "@show exact_x = hilbert_inv(n)*b(n) #厳密解"
   ]
  },
  {
   "cell_type": "markdown",
   "id": "d852c632",
   "metadata": {},
   "source": [
    "これは整数演算のみで計算され，overflowも発生しないため，厳密解と一致していると考えてよい．  \n",
    "\n",
    "`\\`演算子による数値解の計算は，各自の手で確かめてください．"
   ]
  },
  {
   "cell_type": "code",
   "execution_count": 4,
   "id": "a4472440",
   "metadata": {},
   "outputs": [
    {
     "ename": "ErrorException",
     "evalue": "cannot define function b; it already has a value",
     "output_type": "error",
     "traceback": [
      "cannot define function b; it already has a value\n",
      "\n",
      "Stacktrace:\n",
      " [1] top-level scope\n",
      "   @ none:0"
     ]
    }
   ],
   "source": [
    "H(n) = Float64[1/(i+j-1) for i in 1:n, j in 1:n] # Hilbert行列\n",
    "b(n) = ones(Float64, n) \n",
    "\n",
    "# 数値解の計算\n",
    "# x = H(16)\\b(16) \n",
    "\n",
    "# 誤差の表示\n",
    "# @show exact_x - x"
   ]
  },
  {
   "cell_type": "markdown",
   "id": "4b6a4620",
   "metadata": {},
   "source": [
    "## 係数行列がフルランクでない場合\n",
    "簡約階段行列に変形して不定性も含めて求める．  \n",
    "簡約階段行列の計算には`RowEchelon`パッケージの `rref()`を使うので，\n",
    "あらかじめインストールしておく．  \n",
    "（簡約階段の形状のことを英語で reduced echelon form という．）\n",
    "```\n",
    "pkg> add RowEchelon\n",
    "```\n",
    "\n",
    "次の係数行列に対して，$Bx = f$ を解くことを考える．"
   ]
  },
  {
   "cell_type": "code",
   "execution_count": 5,
   "id": "29002e96",
   "metadata": {},
   "outputs": [
    {
     "data": {
      "text/plain": [
       "4×4 Matrix{Int64}:\n",
       " 1   3  -2   4\n",
       " 2  -1   3   0\n",
       " 8   3   5   8\n",
       " 7  -7  14  -4"
      ]
     },
     "metadata": {},
     "output_type": "display_data"
    }
   ],
   "source": [
    "B = [1 3 -2 4;\n",
    "    2 -1 3 0;\n",
    "    8 3 5 8;\n",
    "    7 -7 14 -4]"
   ]
  },
  {
   "cell_type": "code",
   "execution_count": 6,
   "id": "a31c39f0",
   "metadata": {},
   "outputs": [
    {
     "name": "stdout",
     "output_type": "stream",
     "text": [
      "rank(B) = 2\n"
     ]
    },
    {
     "data": {
      "text/plain": [
       "2"
      ]
     },
     "metadata": {},
     "output_type": "display_data"
    }
   ],
   "source": [
    "@show rank(B) # ランクの確認"
   ]
  },
  {
   "cell_type": "code",
   "execution_count": 7,
   "id": "987bd346",
   "metadata": {},
   "outputs": [
    {
     "ename": "ArgumentError",
     "evalue": "ArgumentError: Package RowEchelon not found in current path.\n- Run `import Pkg; Pkg.add(\"RowEchelon\")` to install the RowEchelon package.",
     "output_type": "error",
     "traceback": [
      "ArgumentError: Package RowEchelon not found in current path.\n",
      "- Run `import Pkg; Pkg.add(\"RowEchelon\")` to install the RowEchelon package.\n",
      "\n",
      "Stacktrace:\n",
      "  [1] macro expansion\n",
      "    @ ./loading.jl:2223 [inlined]\n",
      "  [2] macro expansion\n",
      "    @ ./lock.jl:273 [inlined]\n",
      "  [3] __require(into::Module, mod::Symbol)\n",
      "    @ Base ./loading.jl:2198\n",
      "  [4] #invoke_in_world#3\n",
      "    @ ./essentials.jl:1089 [inlined]\n",
      "  [5] invoke_in_world\n",
      "    @ ./essentials.jl:1086 [inlined]\n",
      "  [6] require(into::Module, mod::Symbol)\n",
      "    @ Base ./loading.jl:2191\n",
      "  [7] eval\n",
      "    @ ./boot.jl:430 [inlined]\n",
      "  [8] include_string(mapexpr::typeof(REPL.softscope), mod::Module, code::String, filename::String)\n",
      "    @ Base ./loading.jl:2643\n",
      "  [9] #invokelatest#2\n",
      "    @ ./essentials.jl:1055 [inlined]\n",
      " [10] invokelatest\n",
      "    @ ./essentials.jl:1052 [inlined]\n",
      " [11] (::VSCodeServer.var\"#217#218\"{VSCodeServer.NotebookRunCellArguments, String})()\n",
      "    @ VSCodeServer ~/.vscode/extensions/julialang.language-julia-1.127.2/scripts/packages/VSCodeServer/src/serve_notebook.jl:24\n",
      " [12] withpath(f::VSCodeServer.var\"#217#218\"{VSCodeServer.NotebookRunCellArguments, String}, path::String)\n",
      "    @ VSCodeServer ~/.vscode/extensions/julialang.language-julia-1.127.2/scripts/packages/VSCodeServer/src/repl.jl:276\n",
      " [13] notebook_runcell_request(conn::VSCodeServer.JSONRPC.JSONRPCEndpoint{Base.PipeEndpoint, Base.PipeEndpoint}, params::VSCodeServer.NotebookRunCellArguments)\n",
      "    @ VSCodeServer ~/.vscode/extensions/julialang.language-julia-1.127.2/scripts/packages/VSCodeServer/src/serve_notebook.jl:13\n",
      " [14] dispatch_msg(x::VSCodeServer.JSONRPC.JSONRPCEndpoint{Base.PipeEndpoint, Base.PipeEndpoint}, dispatcher::VSCodeServer.JSONRPC.MsgDispatcher, msg::Dict{String, Any})\n",
      "    @ VSCodeServer.JSONRPC ~/.vscode/extensions/julialang.language-julia-1.127.2/scripts/packages/JSONRPC/src/typed.jl:67\n",
      " [15] serve_notebook(pipename::String, debugger_pipename::String, outputchannel_logger::Base.CoreLogging.SimpleLogger; error_handler::var\"#5#10\"{String})\n",
      "    @ VSCodeServer ~/.vscode/extensions/julialang.language-julia-1.127.2/scripts/packages/VSCodeServer/src/serve_notebook.jl:147\n",
      " [16] top-level scope\n",
      "    @ ~/.vscode/extensions/julialang.language-julia-1.127.2/scripts/notebook/notebook.jl:35"
     ]
    }
   ],
   "source": [
    "# rref() で Bの簡約階段行列を計算する．\n",
    "using RowEchelon\n",
    "C = rref(B)"
   ]
  },
  {
   "cell_type": "markdown",
   "id": "f63be4c7",
   "metadata": {},
   "source": [
    "`B` の kernelの基底を計算する．$ \\vec{v} = (v_1, v_2, v_3, v_4) \\in \\ker B$は\n",
    "$$\n",
    "   C \\vec{v} = \\vec{0}\n",
    "$$\n",
    "と同値である．$(v_3,v_4) = (1,0), (0,1)$に対して それぞれ $(v_1, v_2)$\n",
    "を求めれば，$\\ker B$ の基底ベクトルが得られる．\n",
    "\n",
    "したがって，次の方程式の解 $\\vec{v} = (v_i), \\vec{w} = (w_i)$が基底ベクトルになる．\n",
    "$$\n",
    "\\begin{pmatrix}\n",
    "1 & 0 & * & * \\\\\n",
    "0 & 1 & * & * \\\\\n",
    "0 & 0 & 1 & 0 \\\\ \n",
    "0 & 0 & 0 & 1 \n",
    "\\end{pmatrix}\n",
    "\\begin{pmatrix}v_1 & w_1 \\\\ v_2 & w_2 \\\\ v_3 & w_3 \\\\ v_4 & w_4 \\end{pmatrix}\n",
    "= \n",
    "\\begin{pmatrix} 0 & 0 \\\\ 0 & 0 \\\\ 1 & 0 \\\\ 0 &  1\\end{pmatrix}\n",
    "$$"
   ]
  },
  {
   "cell_type": "code",
   "execution_count": 8,
   "id": "bda77253",
   "metadata": {},
   "outputs": [
    {
     "ename": "UndefVarError",
     "evalue": "UndefVarError: `C` not defined in `Main`\nSuggestion: check for spelling errors or missing imports.",
     "output_type": "error",
     "traceback": [
      "UndefVarError: `C` not defined in `Main`\n",
      "Suggestion: check for spelling errors or missing imports.\n",
      "\n",
      "Stacktrace:\n",
      " [1] top-level scope\n",
      "   @ ~/GitHub/KeisankiEnshu-Julia/Julia(5)/jl_notebook_cell_df34fa98e69747e1a8f8a730347b8e2f_X13sZmlsZQ==.jl:1"
     ]
    }
   ],
   "source": [
    "C[3, 3] = C[4, 4] = 1\n",
    "@show C\n",
    "v = C \\ [0 0; 0 0; 1 0; 0 1]"
   ]
  },
  {
   "cell_type": "code",
   "execution_count": 9,
   "id": "dce6ca57",
   "metadata": {},
   "outputs": [
    {
     "ename": "UndefVarError",
     "evalue": "UndefVarError: `v` not defined in `Main`\nSuggestion: check for spelling errors or missing imports.",
     "output_type": "error",
     "traceback": [
      "UndefVarError: `v` not defined in `Main`\n",
      "Suggestion: check for spelling errors or missing imports.\n",
      "\n",
      "Stacktrace:\n",
      " [1] macro expansion\n",
      "   @ show.jl:1229 [inlined]\n",
      " [2] top-level scope\n",
      "   @ ~/GitHub/KeisankiEnshu-Julia/Julia(5)/jl_notebook_cell_df34fa98e69747e1a8f8a730347b8e2f_X14sZmlsZQ==.jl:2"
     ]
    }
   ],
   "source": [
    "# 確認\n",
    "@show B * v[:, 1] B * v[:, 2];"
   ]
  },
  {
   "cell_type": "markdown",
   "id": "2193962f",
   "metadata": {},
   "source": [
    "### (i) $f = (6, 4, 24, 10)$ の場合\n",
    "拡大係数行列 $(B | f)$のランクが 2，$(= \\mathrm{rank} B)$なので，（不定性を含んだ）一般解が存在する．"
   ]
  },
  {
   "cell_type": "code",
   "execution_count": 10,
   "id": "65bf1091",
   "metadata": {},
   "outputs": [
    {
     "name": "stdout",
     "output_type": "stream",
     "text": [
      "rank([B f]) = 2\n",
      "x = B \\ f = [3.7142857142857144, 6.344131569286608e-17, -1.1428571428571428, 5.551115123125783e-17]\n"
     ]
    },
    {
     "data": {
      "text/plain": [
       "4-element Vector{Float64}:\n",
       "  3.7142857142857144\n",
       "  6.344131569286608e-17\n",
       " -1.1428571428571428\n",
       "  5.551115123125783e-17"
      ]
     },
     "metadata": {},
     "output_type": "display_data"
    }
   ],
   "source": [
    "f = [6, 4, 24, 10]  # = B*[1,1,1,1]\n",
    "@show rank([B f])   # 拡大係数行列のランク\n",
    "@show x = B \\ f"
   ]
  },
  {
   "cell_type": "markdown",
   "id": "6d4b494c",
   "metadata": {},
   "source": [
    "これに，先に求めた $\\ker B$ を加えたものが一般解となる．"
   ]
  },
  {
   "cell_type": "markdown",
   "id": "90eafeff",
   "metadata": {},
   "source": [
    "### (ii) $f = (1,2,3,4)$の場合\n",
    "この場合は $\\mathrm{rank} (B | f) = 3 > 2 = \\mathrm{rank}$ となるので解は存在しない．\n",
    "\n",
    "もし，これを知らずに解を計算するとどうなるか試してみる．"
   ]
  },
  {
   "cell_type": "code",
   "execution_count": 11,
   "id": "ba1114e1",
   "metadata": {},
   "outputs": [
    {
     "name": "stdout",
     "output_type": "stream",
     "text": [
      "rank([B f]) = 3\n",
      "x = B \\ f = [-1.470563143631182e16, -2.058788401083655e16, 2.9411262872623645e15, 2.058788401083655e16]\n",
      "B * x = [0.0, 6.0, 0.0, 32.0]\n",
      "B * x == f = false\n"
     ]
    },
    {
     "data": {
      "text/plain": [
       "false"
      ]
     },
     "metadata": {},
     "output_type": "display_data"
    }
   ],
   "source": [
    "f = [1, 2, 3, 4]\n",
    "@show rank([B f])  # 拡大係数行列のランク\n",
    "@show x = B \\ f    # 何らかの数値は出力される \n",
    "@show B * x\n",
    "@show B * x == f"
   ]
  },
  {
   "cell_type": "markdown",
   "id": "5577ad39",
   "metadata": {},
   "source": []
  }
 ],
 "metadata": {
  "kernelspec": {
   "display_name": "Julia 1.11.1",
   "language": "julia",
   "name": "julia-1.11"
  },
  "language_info": {
   "file_extension": ".jl",
   "mimetype": "application/julia",
   "name": "julia",
   "version": "1.11.1"
  }
 },
 "nbformat": 4,
 "nbformat_minor": 5
}
