{
 "cells": [
  {
   "cell_type": "markdown",
   "id": "1826cece-0868-4cb9-9de7-0178610d057b",
   "metadata": {},
   "source": [
    "# 連立１次方程式の数値解法\n",
    "\n",
    "## [`\\`演算子](https://docs.julialang.org/en/v1/stdlib/LinearAlgebra/#Base.:\\\\-Tuple{AbstractMatrix,%20AbstractVecOrMat})による数値解の計算\n",
    "$n$次正方行列 $A$, $n$項列ベクトル $b$ に対して，\n",
    "連立一次方程式 $A\\vec{x} = \\vec{b}$ の解は `A\\b` で計算できる．"
   ]
  },
  {
   "cell_type": "code",
   "execution_count": 1,
   "id": "5a493046",
   "metadata": {},
   "outputs": [
    {
     "data": {
      "text/plain": [
       "3-element Vector{Float64}:\n",
       " -0.5000000000000002\n",
       "  2.0000000000000004\n",
       " -0.5000000000000002"
      ]
     },
     "metadata": {},
     "output_type": "display_data"
    }
   ],
   "source": [
    "A = [1 1 1; 1 2 3; 1 4 9]\n",
    "b = [1, 2, 3]\n",
    "A \\ b"
   ]
  },
  {
   "cell_type": "markdown",
   "id": "62b85147",
   "metadata": {},
   "source": [
    "出力された数値解は厳密解 $\\vec{x} = (-1/2, 2, -1/2)^T$ とほぼ一致している．  \n",
    "仮数部の末尾が0でないのは丸め誤差の影響である．\n",
    "\n",
    "念のため，行列式とランクを確かめておこう．"
   ]
  },
  {
   "cell_type": "code",
   "execution_count": 2,
   "id": "7c9cb99d",
   "metadata": {},
   "outputs": [
    {
     "name": "stdout",
     "output_type": "stream",
     "text": [
      "det(A) = 1.9999999999999996\n",
      "rank(A) = 3\n"
     ]
    }
   ],
   "source": [
    "using LinearAlgebra\n",
    "@show det(A) rank(A);"
   ]
  },
  {
   "cell_type": "markdown",
   "id": "26d01384",
   "metadata": {},
   "source": [
    "<div class=\"alert alert-warning\"> \n",
    "Warning: \n",
    "連立１次方程式の解は inv(A)*b でも得られるが，A\\b よりも効率が悪いので使われない．\n",
    "</div>"
   ]
  },
  {
   "cell_type": "markdown",
   "id": "a97aa7ac",
   "metadata": {},
   "source": [
    "## 悪条件な連立１次方程式\n",
    "連立１次方程式によっては，丸め誤差が増幅されて数値解が厳密解と大きく異なる場合がある．  \n",
    "そのような連立１次方程式（の係数行列）を悪条件であるという．\n",
    "\n",
    "$n$次Hilbert行列 $H = (h_{ij})$：\n",
    "$$\n",
    " h_{ij} := \\frac{1}{i+j-1}, \\qquad \n",
    " 1 \\le i, j \\le n.\n",
    "$$\n",
    "は $n$が大きいと，悪条件であることが知られている．\n",
    "\n",
    "連立一次方程式\n",
    "$$\n",
    "  H \\vec{x} = \\vec{f} := \\begin{pmatrix} 1 \\\\ 1 \\\\ \\vdots \\\\ 1 \n",
    "\\end{pmatrix}\n",
    "$$\n",
    "を`\\`演算子で数値解を計算してみよう．\n",
    "\n",
    "数値解の誤差を確認するために先に厳密解を求める．  \n",
    "Hilbert行列の逆行列の第$(i,j)$成分は整数値であり，\n",
    "$$\n",
    "  (-1)^{i+j}(i+j-1){\\binom {n+i-1}{n-j}}{\\binom {n+j-1}{n-i}}{\\binom {i+j-2}{i-1}}^{2}\n",
    "$$\n",
    "と書き表せる．ここで，$\\binom{p}{q}$ は二項係数である．\n",
    "（参考：[Wikipedia/HilbertMatrix](https://en.wikipedia.org/wiki/Hilbert_matrix)）\n",
    "\n"
   ]
  },
  {
   "cell_type": "code",
   "execution_count": 3,
   "id": "9a0c28cc",
   "metadata": {},
   "outputs": [
    {
     "name": "stdout",
     "output_type": "stream",
     "text": [
      "exact_x = hilbert_inv(n) * f(n) = [-16, 4080, -257040, 7054320, -105814800, 977728752, -5975009040, 25241364720, -75724094160, 163601438000, -255218243280, 284747626800, -221470376400, 114011377200, -34901442000, 4808643120]\n"
     ]
    },
    {
     "data": {
      "text/plain": [
       "16-element Vector{Int64}:\n",
       "           -16\n",
       "          4080\n",
       "       -257040\n",
       "       7054320\n",
       "    -105814800\n",
       "     977728752\n",
       "   -5975009040\n",
       "   25241364720\n",
       "  -75724094160\n",
       "  163601438000\n",
       " -255218243280\n",
       "  284747626800\n",
       " -221470376400\n",
       "  114011377200\n",
       "  -34901442000\n",
       "    4808643120"
      ]
     },
     "metadata": {},
     "output_type": "display_data"
    }
   ],
   "source": [
    "n = 16\n",
    "# Hilbert行列の逆行列．整数型で定義する．\n",
    "hilbert_inv(n) = Int64[(-1)^(i+j)*(i+j-1)*binomial(n+i-1,n-j)*binomial(n+j-1,n-i)*binomial(i+j-2,i-1)^2 for i in 1:n, j in 1:n]\n",
    "\n",
    "f(n) = ones(Int64, n) # 右辺のベクトル\n",
    "@show exact_x = hilbert_inv(n)*f(n) #厳密解"
   ]
  },
  {
   "cell_type": "markdown",
   "id": "d852c632",
   "metadata": {},
   "source": [
    "これは整数演算のみで計算され，overflowも発生しないため，厳密解と一致していると考えてよい．  \n",
    "\n",
    "`\\`演算子による数値解の計算は，各自の手で確かめてください．"
   ]
  },
  {
   "cell_type": "code",
   "execution_count": 4,
   "id": "a4472440",
   "metadata": {},
   "outputs": [
    {
     "data": {
      "text/plain": [
       "f (generic function with 1 method)"
      ]
     },
     "metadata": {},
     "output_type": "display_data"
    }
   ],
   "source": [
    "H(n) = Float64[1/(i+j-1) for i in 1:n, j in 1:n] # Hilbert行列\n",
    "f(n) = ones(Float64, n) \n",
    "\n",
    "# 数値解の計算\n",
    "# x = H(16)\\f(16) \n",
    "\n",
    "# 誤差の表示\n",
    "# @show exact_x - x"
   ]
  },
  {
   "cell_type": "markdown",
   "id": "4b6a4620",
   "metadata": {},
   "source": [
    "## 係数行列がフルランクでない場合\n",
    "簡約階段行列に変形して不定性も含めて求める．  \n",
    "簡約階段行列の計算には`RowEchelon`パッケージの `rref()`を使うので，\n",
    "あらかじめインストールしておく．  \n",
    "（簡約階段の形状のことを英語で reduced echelon form という．）\n",
    "```\n",
    "pkg> add RowEchelon\n",
    "```\n",
    "\n",
    "次の係数行列に対して，$B\\vec{x} = \\vec{d}$ を解くことを考える．"
   ]
  },
  {
   "cell_type": "code",
   "execution_count": 5,
   "id": "29002e96",
   "metadata": {},
   "outputs": [
    {
     "data": {
      "text/plain": [
       "4×4 Matrix{Int64}:\n",
       " 1   3  -2   4\n",
       " 2  -1   3   0\n",
       " 8   3   5   8\n",
       " 7  -7  14  -4"
      ]
     },
     "metadata": {},
     "output_type": "display_data"
    }
   ],
   "source": [
    "B = [1 3 -2 4;\n",
    "    2 -1 3 0;\n",
    "    8 3 5 8;\n",
    "    7 -7 14 -4]"
   ]
  },
  {
   "cell_type": "code",
   "execution_count": 6,
   "id": "a31c39f0",
   "metadata": {},
   "outputs": [
    {
     "name": "stdout",
     "output_type": "stream",
     "text": [
      "rank(B) = 2\n"
     ]
    },
    {
     "data": {
      "text/plain": [
       "2"
      ]
     },
     "metadata": {},
     "output_type": "display_data"
    }
   ],
   "source": [
    "@show rank(B) # ランクの確認"
   ]
  },
  {
   "cell_type": "code",
   "execution_count": 7,
   "id": "987bd346",
   "metadata": {},
   "outputs": [
    {
     "data": {
      "text/plain": [
       "4×4 Matrix{Float64}:\n",
       " 1.0  0.0   1.0  0.571429\n",
       " 0.0  1.0  -1.0  1.14286\n",
       " 0.0  0.0   0.0  0.0\n",
       " 0.0  0.0   0.0  0.0"
      ]
     },
     "metadata": {},
     "output_type": "display_data"
    }
   ],
   "source": [
    "# rref() で Bの簡約階段行列を計算する．\n",
    "using RowEchelon\n",
    "C = rref(B)"
   ]
  },
  {
   "cell_type": "markdown",
   "id": "f63be4c7",
   "metadata": {},
   "source": [
    "`B` の kernelの基底を計算する．$ \\vec{v} = (v_1, v_2, v_3, v_4) \\in \\ker B$は\n",
    "$$\n",
    "   C \\vec{v} = \\vec{0}\n",
    "$$\n",
    "と同値である．$(v_3,v_4) = (1,0), (0,1)$に対して それぞれ $(v_1, v_2)$\n",
    "を求めれば，$\\ker B$ の基底ベクトルが得られる．\n",
    "\n",
    "したがって，次の方程式の解 $\\vec{v} = (v_i), \\vec{w} = (w_i)$が基底ベクトルになる．\n",
    "$$\n",
    "\\begin{pmatrix}\n",
    "1 & 0 & * & * \\\\\n",
    "0 & 1 & * & * \\\\\n",
    "0 & 0 & 1 & 0 \\\\ \n",
    "0 & 0 & 0 & 1 \n",
    "\\end{pmatrix}\n",
    "\\begin{pmatrix}v_1 & w_1 \\\\ v_2 & w_2 \\\\ v_3 & w_3 \\\\ v_4 & w_4 \\end{pmatrix}\n",
    "= \n",
    "\\begin{pmatrix} 0 & 0 \\\\ 0 & 0 \\\\ 1 & 0 \\\\ 0 &  1\\end{pmatrix}\n",
    "$$"
   ]
  },
  {
   "cell_type": "code",
   "execution_count": 8,
   "id": "bda77253",
   "metadata": {},
   "outputs": [
    {
     "name": "stdout",
     "output_type": "stream",
     "text": [
      "C = [1.0 0.0 1.0 0.5714285714285714; 0.0 1.0 -1.0 1.1428571428571428; 0.0 0.0 1.0 0.0; 0.0 0.0 0.0 1.0]\n"
     ]
    },
    {
     "data": {
      "text/plain": [
       "4×2 Matrix{Float64}:\n",
       " -1.0  -0.571429\n",
       "  1.0  -1.14286\n",
       "  1.0   0.0\n",
       "  0.0   1.0"
      ]
     },
     "metadata": {},
     "output_type": "display_data"
    }
   ],
   "source": [
    "C[3, 3] = C[4, 4] = 1\n",
    "@show C\n",
    "v = C \\ [0 0; 0 0; 1 0; 0 1]"
   ]
  },
  {
   "cell_type": "code",
   "execution_count": 9,
   "id": "dce6ca57",
   "metadata": {},
   "outputs": [
    {
     "name": "stdout",
     "output_type": "stream",
     "text": [
      "B * v[:, 1] = [0.0, 0.0, 0.0, 0.0]\n",
      "B * v[:, 2] = [0.0, 0.0, 0.0, 0.0]\n"
     ]
    }
   ],
   "source": [
    "# 確認\n",
    "@show B * v[:, 1] B * v[:, 2];"
   ]
  },
  {
   "cell_type": "markdown",
   "id": "2193962f",
   "metadata": {},
   "source": [
    "### (i) $\\vec{d} = (6, 4, 24, 10)$ の場合\n",
    "拡大係数行列 $(B | \\vec{d})$のランクが 2 $(= \\mathrm{rank} B)$なので，（不定性を含んだ）一般解が存在する．"
   ]
  },
  {
   "cell_type": "code",
   "execution_count": 10,
   "id": "65bf1091",
   "metadata": {},
   "outputs": [
    {
     "name": "stdout",
     "output_type": "stream",
     "text": [
      "rank([B d]) = 2\n",
      "x = B \\ d = [3.7142857142857144, 6.344131569286608e-17, -1.1428571428571428, 5.551115123125783e-17]\n"
     ]
    },
    {
     "data": {
      "text/plain": [
       "4-element Vector{Float64}:\n",
       "  3.7142857142857144\n",
       "  6.344131569286608e-17\n",
       " -1.1428571428571428\n",
       "  5.551115123125783e-17"
      ]
     },
     "metadata": {},
     "output_type": "display_data"
    }
   ],
   "source": [
    "d = [6, 4, 24, 10]  # = B*[1,1,1,1]\n",
    "@show rank([B d])   # 拡大係数行列のランク\n",
    "@show x = B \\ d"
   ]
  },
  {
   "cell_type": "markdown",
   "id": "6d4b494c",
   "metadata": {},
   "source": [
    "これに，先に求めた $\\ker B$ を加えたものが一般解となる．"
   ]
  },
  {
   "cell_type": "markdown",
   "id": "90eafeff",
   "metadata": {},
   "source": [
    "### (ii) $\\vec{d} = (1,2,3,4)$の場合\n",
    "この場合は $\\mathrm{rank} (B | \\vec{d}) = 3 > 2 = \\mathrm{rank} B$ となるので解は存在しない．\n",
    "\n",
    "もし，これを知らずに解を計算するとどうなるか試してみる．"
   ]
  },
  {
   "cell_type": "code",
   "execution_count": 11,
   "id": "ba1114e1",
   "metadata": {},
   "outputs": [
    {
     "name": "stdout",
     "output_type": "stream",
     "text": [
      "rank([B d]) = 3\n",
      "x = B \\ d = [-1.470563143631182e16, -2.058788401083655e16, 2.9411262872623645e15, 2.058788401083655e16]\n",
      "B * x = [0.0, 6.0, 0.0, 32.0]\n",
      "B * x == d = false\n"
     ]
    },
    {
     "data": {
      "text/plain": [
       "false"
      ]
     },
     "metadata": {},
     "output_type": "display_data"
    }
   ],
   "source": [
    "d = [1, 2, 3, 4]\n",
    "@show rank([B d])  # 拡大係数行列のランク\n",
    "@show x = B \\ d    # 何らかの数値は出力される \n",
    "@show B * x\n",
    "@show B * x == d"
   ]
  },
  {
   "cell_type": "markdown",
   "id": "5577ad39",
   "metadata": {},
   "source": []
  }
 ],
 "metadata": {
  "kernelspec": {
   "display_name": "Julia 1.11.1",
   "language": "julia",
   "name": "julia-1.11"
  },
  "language_info": {
   "file_extension": ".jl",
   "mimetype": "application/julia",
   "name": "julia",
   "version": "1.11.1"
  }
 },
 "nbformat": 4,
 "nbformat_minor": 5
}
