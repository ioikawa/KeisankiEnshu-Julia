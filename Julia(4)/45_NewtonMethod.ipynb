{
 "cells": [
  {
   "cell_type": "markdown",
   "id": "a501d0f1-45a9-4b23-8b35-3ccbd58e15ce",
   "metadata": {},
   "source": [
    "# Newton法\n"
   ]
  },
  {
   "cell_type": "markdown",
   "id": "142e761d-4129-4ec4-b36f-7a8eac13847d",
   "metadata": {},
   "source": [
    "## 非線形方程式 \n",
    "\n",
    "$f(x)$ を実数全体で定義された微分可能な実数値関数とする．  \n",
    "\n",
    "非線形方程式 \n",
    "$\n",
    "f(x) = 0\n",
    "$\n",
    "は解 $\\alpha$をもつとする．  \n",
    "さらに，$x=\\alpha$ の近傍で $f'(x) \\neq 0$ が成り立つと仮定する．\n",
    "\n",
    "【例】$f(x) := x^2 - 2$ の根は $\\pm \\sqrt{2}$で，いずれの根の近傍でも微分係数は0にはなっていない．\n",
    "\n",
    "非線形方程式は一般に解くことができないので，数値計算が必要となる．\n",
    "\n",
    "## Newton法のアルゴリズム\n",
    "方程式の解 $\\alpha$ の近似値を，次の漸化式で反復計算する方法を **Newton法** あるいはNewton-Raphson法という．\n",
    "\n",
    "$$\n",
    "x_{n+1} := x_n - \\frac{f(x_n)}{f'(x_n)} \\qquad (n \\ge 0) \n",
    "$$\n",
    "\n",
    "ただし，初項 $x_0$ は適切に与えるものとする．\n",
    "\n",
    "反復計算の途中で，$f'(x_n) = 0$ となった場合はゼロ除算を避けるために計算を停止する．　　  \n",
    "この場合は，初期値を取り直して再度計算を試みる．\n",
    "\n",
    "## 停止条件\n",
    "反復計算は $x_{n+1}$を漸化式により計算したとき，\n",
    "前のステップの$x_{n}$との差の絶対値が十分小さくなったら打ち切るものとする：\n",
    "$$\n",
    "  |x_{n+1} - x_n | < \\epsilon_{\\rm tol}.\n",
    "$$\n",
    "ただし，$\\epsilon_{\\rm tol}>0$はあらかじめ決めておいた（小さな値の）定数である．\n"
   ]
  },
  {
   "cell_type": "markdown",
   "id": "64179e5c",
   "metadata": {},
   "source": [
    "\n",
    "## 数値計算例\n",
    "$f(x) = x^- 2 = 0$ に対して，\n",
    "Newton法を適用してみよう．"
   ]
  },
  {
   "cell_type": "code",
   "execution_count": 3,
   "id": "b07ed71e",
   "metadata": {},
   "outputs": [
    {
     "name": "stdout",
     "output_type": "stream",
     "text": [
      "x_1 = 1.5\n",
      "x_2 = 1.4166666666666667\n",
      "x_3 = 1.4142156862745099\n",
      "x_4 = 1.4142135623746899\n",
      "x_5 = 1.4142135623730951\n"
     ]
    }
   ],
   "source": [
    "# 方程式の関数とその導関数\n",
    "f(x) = x^2 - 2\n",
    "fp(x) = 2x\n",
    "\n",
    "tol = 1e-6 # tolerance(許容誤差)\n",
    "maxiter = 100 # 無限ループを避けるため，最大繰り返し回数を設定する\n",
    "x = 1.0 # 初期値\n",
    "\n",
    "for i in 1:maxiter\n",
    "    t = f(x)/fp(x)\n",
    "    x -= t\n",
    "    println(\"x_$i = $x\")  # 途中経過を表示\n",
    "\n",
    "    if abs(t) < tol # 実はabs2(t) < tol^2 の方が速い\n",
    "        break\n",
    "    end\n",
    "end\n"
   ]
  },
  {
   "cell_type": "markdown",
   "id": "2b39ce47",
   "metadata": {},
   "source": [
    "$\\alpha = \\sqrt{2}$ に収束していると考えられる．  \n",
    "どの解に収束するかは初期値に大きく依存する．また，初期値によってはどのにも収束しないこともあり得る．\n"
   ]
  },
  {
   "cell_type": "markdown",
   "id": "26e2ded4-562c-42b5-84e4-1e296f2e3547",
   "metadata": {
    "jp-MarkdownHeadingCollapsed": true,
    "tags": []
   },
   "source": [
    "## Newton法の局所収束性について\n",
    "Newton法の反復列は一般には収束するとは限らないが，$x_0$ が $\\alpha$ の**十分近くにある場合は\n",
    "2次収束する** ことが知られている．\n",
    "\n",
    "つまり，ある $n$ に依存しない定数 $C$が存在し，十分大きな $n$ に対して\n",
    "次が成り立つ．\n",
    "$$\n",
    " |x_{n+1} - \\alpha| \\le C |x_{n} - \\alpha|^2.\n",
    "$$\n",
    "\n",
    "一方で，Newton法の大域的な挙動は一般に複雑である．"
   ]
  },
  {
   "cell_type": "markdown",
   "id": "978629f6-b9a8-42ac-be52-95d5e7a20dc5",
   "metadata": {},
   "source": [
    "## Note: Newton法に関する歴史\n",
    "1669年に，万有引力で有名な Isaac Newton が 現在のNewton法に相当する方法を考案した．　\n",
    "\n",
    "Newton法はNewton-Raphson法とも呼ばれる．   \n",
    "以下，[山本哲朗，Newton法とその周辺 (1985)]( https://doi.org/10.11429/sugaku1947.37.1\n",
    ") の注 1)からの引用である．\n",
    "\n",
    "> Newtonの友人Raphson(1648-1715)は一般な3次方程式 $x^3-ax-b=0$ に対して，(0.3)と全く同一の反復公式を提案している．したがって，Newton法はNewton-Rapshon法と呼ばれることもある．"
   ]
  }
 ],
 "metadata": {
  "kernelspec": {
   "display_name": "Julia 1.11.1",
   "language": "julia",
   "name": "julia-1.11"
  },
  "language_info": {
   "file_extension": ".jl",
   "mimetype": "application/julia",
   "name": "julia",
   "version": "1.11.1"
  }
 },
 "nbformat": 4,
 "nbformat_minor": 5
}
