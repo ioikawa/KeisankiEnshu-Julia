{
 "cells": [
  {
   "cell_type": "markdown",
   "id": "adb1d2a3-d830-4d54-bf49-90452b2e55ac",
   "metadata": {},
   "source": [
    "# ループ処理\n",
    "\n",
    "コードを繰り返し実行する場合，for文を使用する．"
   ]
  },
  {
   "cell_type": "code",
   "execution_count": 1,
   "id": "2e9b0d57-79bd-44e6-9b9b-0c1f7917e912",
   "metadata": {},
   "outputs": [
    {
     "name": "stdout",
     "output_type": "stream",
     "text": [
      "i = 1\n",
      "i = 2\n",
      "i = 3\n",
      "i = 4\n",
      "i = 5\n"
     ]
    }
   ],
   "source": [
    "for i in 1:5   # i = 1, 2, ..., 5 と動く\n",
    "   @show i\n",
    "end"
   ]
  },
  {
   "cell_type": "markdown",
   "id": "980eb32f-6fd8-4da0-8172-45d09a543fd7",
   "metadata": {},
   "source": [
    "`i` はカウンタ変数（ループカウンタ）と呼ばれ，指定された範囲を動く．  \n",
    "\n",
    "`i in 1:5` と書けば `i = 1, 2 ,3, 4, 5` と1刻みで動く．   \n",
    "\n",
    "刻みを `k` に変更したい場合は，`i in 1:k:5`　と書く．"
   ]
  },
  {
   "cell_type": "code",
   "execution_count": 2,
   "id": "d707a99b-862a-4155-a8b4-416fb74267bb",
   "metadata": {},
   "outputs": [
    {
     "name": "stdout",
     "output_type": "stream",
     "text": [
      "i = 1.0\n",
      "i = 1.5\n",
      "i = 2.0\n",
      "i = 2.5\n",
      "i = 3.0\n",
      "i = 3.5\n",
      "i = 4.0\n",
      "i = 4.5\n",
      "i = 5.0\n"
     ]
    }
   ],
   "source": [
    "for i in 1:0.5:5    \n",
    "    @show i \n",
    "end"
   ]
  },
  {
   "cell_type": "markdown",
   "id": "6f6139b5",
   "metadata": {},
   "source": [
    "<div class=\"alert  alert-info\">\n",
    "Note: `i in 1:5` は `i = 1:5` と書いても同じである．\n",
    "</div>"
   ]
  },
  {
   "cell_type": "markdown",
   "id": "085d8266-b662-4f02-a286-908ddded2107",
   "metadata": {
    "tags": []
   },
   "source": [
    "## 多重ループ\n",
    "forループは入れ子にできる．"
   ]
  },
  {
   "cell_type": "code",
   "execution_count": 3,
   "id": "8fff11ef-7f95-4ae6-9323-9baf2ec16ee5",
   "metadata": {},
   "outputs": [
    {
     "name": "stdout",
     "output_type": "stream",
     "text": [
      "(i, j) = (1, \"a\")\n",
      "(i, j) = (1, \"b\")\n",
      "(i, j) = (1, \"c\")\n",
      "(i, j) = (2, \"a\")\n",
      "(i, j) = (2, \"b\")\n",
      "(i, j) = (2, \"c\")\n",
      "(i, j) = (3, \"a\")\n",
      "(i, j) = (3, \"b\")\n",
      "(i, j) = (3, \"c\")\n"
     ]
    }
   ],
   "source": [
    "for i in 1:3\n",
    "    for j in [\"a\",\"b\",\"c\"] # j = \"a\", \"b\", \"c\" と動く\n",
    "        @show i, j\n",
    "    end\n",
    "end"
   ]
  },
  {
   "cell_type": "markdown",
   "id": "fadfec48-84c2-43ba-a77c-28f2537a20da",
   "metadata": {},
   "source": [
    "Julia言語では次のように一行で書くこともできる．"
   ]
  },
  {
   "cell_type": "code",
   "execution_count": 4,
   "id": "5d6904be-2e37-4139-8389-35582330904b",
   "metadata": {},
   "outputs": [
    {
     "name": "stdout",
     "output_type": "stream",
     "text": [
      "(i, j) = (1, \"a\")\n",
      "(i, j) = (1, \"b\")\n",
      "(i, j) = (1, \"c\")\n",
      "(i, j) = (2, \"a\")\n",
      "(i, j) = (2, \"b\")\n",
      "(i, j) = (2, \"c\")\n",
      "(i, j) = (3, \"a\")\n",
      "(i, j) = (3, \"b\")\n",
      "(i, j) = (3, \"c\")\n"
     ]
    }
   ],
   "source": [
    "for i in 1:3, j in [\"a\",\"b\",\"c\"]\n",
    "    @show i, j\n",
    "end"
   ]
  },
  {
   "cell_type": "markdown",
   "id": "6a8be353-803e-476e-bfae-46235287a821",
   "metadata": {},
   "source": [
    "# ループからの脱出: `break`\n",
    " `break`コマンドでループから抜けることができる．"
   ]
  },
  {
   "cell_type": "code",
   "execution_count": 5,
   "id": "e20aa5bc-116a-4152-9a2d-a95cf75d46af",
   "metadata": {},
   "outputs": [
    {
     "name": "stdout",
     "output_type": "stream",
     "text": [
      "s = 1\n",
      "s = 3\n",
      "s = 6\n",
      "s = 10\n",
      "s = 15\n",
      "s = 21\n",
      "s = 28\n",
      "s = 36\n",
      "s = 45\n",
      "s = 55\n",
      "break\n"
     ]
    }
   ],
   "source": [
    "s = 0\n",
    "for i in 1:100\n",
    "    s += i\n",
    "    @show s\n",
    "    if s > 50       # 総和が50を超えたループを抜ける   \n",
    "        println(\"break\")\n",
    "        break        \n",
    "    end\n",
    "end"
   ]
  },
  {
   "cell_type": "markdown",
   "id": "713e0dd1-ac4b-49a0-851f-4908f45c25b6",
   "metadata": {},
   "source": [
    "<div class=\"alert alert-info\">\n",
    "ループを抜けずにループの先頭に戻りたい場合は `continue`コマンドを使う．\n",
    "</div>"
   ]
  },
  {
   "cell_type": "markdown",
   "id": "9d81f16d-1bfe-4e0c-8a21-309716dd02bd",
   "metadata": {},
   "source": [
    "# 漸化式の計算\n",
    "漸化式\n",
    "$$\n",
    " a_{n+1} = a_n + 1 \\quad (n \\ge 1)，\\quad a_1 = 1\n",
    "$$\n",
    "を $n = 10$ まで計算するコードは次のようになる．\n",
    " "
   ]
  },
  {
   "cell_type": "code",
   "execution_count": 6,
   "id": "da482c3b-9c75-4804-ad4c-03d29a082825",
   "metadata": {},
   "outputs": [
    {
     "name": "stdout",
     "output_type": "stream",
     "text": [
      "a_2 = 2\n",
      "a_3 = 3\n",
      "a_4 = 4\n",
      "a_5 = 5\n",
      "a_6 = 6\n",
      "a_7 = 7\n",
      "a_8 = 8\n",
      "a_9 = 9\n",
      "a_10 = 10\n"
     ]
    }
   ],
   "source": [
    "n = 10\n",
    "a = 1      # 初項\n",
    "for i in 2:n\n",
    "   a = a + 1     # 漸化式\n",
    "   println(\"a_$i = $a\")       # 値表示\n",
    "end"
   ]
  },
  {
   "cell_type": "markdown",
   "id": "2fb21de2",
   "metadata": {},
   "source": [
    "上記コードは変数を更新（上書き）し続けるので，メモリ効率がよい．  \n",
    "途中の履歴を残したい場合は，配列を用意して記録する．"
   ]
  },
  {
   "cell_type": "code",
   "execution_count": 7,
   "id": "77a83246",
   "metadata": {},
   "outputs": [
    {
     "name": "stdout",
     "output_type": "stream",
     "text": [
      "a = [1.0, 2.0, 3.0, 4.0, 5.0, 6.0, 7.0, 8.0, 9.0, 10.0]\n"
     ]
    }
   ],
   "source": [
    "n = 10\n",
    "a = zeros(n)\n",
    "a[1] = 1      # 初項\n",
    "\n",
    "for i in 2:n\n",
    "   a[i] = a[i-1] + 1     \n",
    "end\n",
    "\n",
    "@show a;"
   ]
  },
  {
   "cell_type": "markdown",
   "id": "6dac5119-05ee-4ff1-8762-356554cd3aaf",
   "metadata": {
    "tags": []
   },
   "source": [
    "## ニ項間漸化式の計算\n",
    "フィボナッチ数列\n",
    "$$\n",
    "a_{n+2} = a_{n+1} + a_n\\quad (n \\ge 1), \\quad a_1 = a_2 = 1\n",
    "$$\n",
    "を計算しよう．"
   ]
  },
  {
   "cell_type": "code",
   "execution_count": 8,
   "id": "e9bcce8c-2c21-4703-8957-a1fafb7e3634",
   "metadata": {},
   "outputs": [
    {
     "name": "stdout",
     "output_type": "stream",
     "text": [
      "a_2 = 2\n",
      "a_3 = 3\n",
      "a_4 = 5\n",
      "a_5 = 8\n",
      "a_6 = 13\n",
      "a_7 = 21\n",
      "a_8 = 34\n",
      "a_9 = 55\n",
      "a_10 = 89\n"
     ]
    }
   ],
   "source": [
    "n = 10\n",
    "a, b = 1, 1      # 初項を与える\n",
    "\n",
    "for i in 2:10\n",
    "   a, b = a + b, a     # 漸化式\n",
    "   println(\"a_$i = $a\")          # 値表示\n",
    "end"
   ]
  },
  {
   "cell_type": "markdown",
   "id": "8a901df4-2d99-4419-ad15-8cfa429b9b0a",
   "metadata": {},
   "source": [
    "<div class=\"alert alert-danger\">\n",
    "再帰関数は非常に効率が悪いので数値計算では使いません．\n",
    "</div>\n",
    "\n",
    "## 再帰関数に関する注意\n",
    "\n",
    "自分自身を呼び出すような関数を**再帰関数**という．"
   ]
  },
  {
   "cell_type": "code",
   "execution_count": 9,
   "id": "fa907010-58f0-4181-949f-adf33e29ab9c",
   "metadata": {},
   "outputs": [
    {
     "data": {
      "text/plain": [
       "f (generic function with 1 method)"
      ]
     },
     "metadata": {},
     "output_type": "display_data"
    }
   ],
   "source": [
    "f(x) = f(x) + 1"
   ]
  },
  {
   "cell_type": "markdown",
   "id": "a56f6e3e-6736-4a48-9b01-3301473ec2f8",
   "metadata": {},
   "source": [
    "上で定義した再帰関数に対して `f(1)` を実行すると，\n",
    "自分自身の呼び出しを無限に繰り返す．  \n",
    "関数を呼び出すごとにスタック（引数の保存などによるメモリ消費）が発生するので，やがて\n",
    "StackOverflowError を起こして停止する．"
   ]
  },
  {
   "cell_type": "code",
   "execution_count": 10,
   "id": "412706cd-bd85-4826-bd0f-89ea075acdc5",
   "metadata": {},
   "outputs": [
    {
     "name": "stdout",
     "output_type": "stream",
     "text": [
      "StackOverflowError()\n"
     ]
    }
   ],
   "source": [
    "try # 例外処理．try-catch間のコードで発生したエラーを補足する．\n",
    "    f(1)\n",
    "catch e # エラーを補足して表示する．\n",
    "    println(e)\n",
    "end "
   ]
  },
  {
   "cell_type": "markdown",
   "id": "b161912f-0e85-4c32-a6ef-ebd126dfe02b",
   "metadata": {},
   "source": [
    "したがって，漸化式を再帰関数で計算しようとしても，割と早い段階で StackOverflowError で止まってしまう．  \n",
    "しかも，スタック処理はメモリ消費だけでなく計算速度の低下も招くため，再帰関数は数値計算には適さない．"
   ]
  }
 ],
 "metadata": {
  "kernelspec": {
   "display_name": "Julia 1.11.1",
   "language": "julia",
   "name": "julia-1.11"
  },
  "language_info": {
   "file_extension": ".jl",
   "mimetype": "application/julia",
   "name": "julia",
   "version": "1.11.1"
  }
 },
 "nbformat": 4,
 "nbformat_minor": 5
}
