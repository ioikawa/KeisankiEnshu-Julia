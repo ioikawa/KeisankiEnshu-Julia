{
 "cells": [
  {
   "cell_type": "markdown",
   "id": "b8bc996d-00e4-41e6-9a1a-cc616a4fede5",
   "metadata": {},
   "source": [
    "# 配列と数ベクトル\n",
    "## 配列 [Array](https://docs.julialang.org/en/v1/manual/arrays/)\n",
    "次のようにオブジェクトが一列に並んでいるデータのことを配列という．"
   ]
  },
  {
   "cell_type": "code",
   "execution_count": 1,
   "id": "5bcc0140-7f8b-4ac3-ac47-cd5caad3487d",
   "metadata": {},
   "outputs": [
    {
     "data": {
      "text/plain": [
       "4-element Vector{Any}:\n",
       " 1\n",
       "  \"II\"\n",
       "  \"tri\"\n",
       "  \"four\""
      ]
     },
     "metadata": {},
     "output_type": "display_data"
    }
   ],
   "source": [
    "X = [1, \"II\", \"tri\", \"four\"]"
   ]
  },
  {
   "cell_type": "markdown",
   "id": "87e842b1-063d-46d6-b88b-b5087f8e3df5",
   "metadata": {},
   "source": [
    "配列の先頭（左）から`i`番目の要素にアクセスするには，`X[i]`と書く．"
   ]
  },
  {
   "cell_type": "code",
   "execution_count": 2,
   "id": "f64ca250-caee-4209-8158-67255b9e5564",
   "metadata": {},
   "outputs": [
    {
     "name": "stdout",
     "output_type": "stream",
     "text": [
      "X[1] = 1\n",
      "X[2] = \"II\"\n",
      "X[3] = \"tri\"\n",
      "X[4] = \"four\"\n"
     ]
    }
   ],
   "source": [
    "@show X[1] X[2] X[3] X[4];"
   ]
  },
  {
   "cell_type": "markdown",
   "id": "202a16bf",
   "metadata": {},
   "source": [
    "番号でなくとも，先頭は`begin`，末尾は`end` を使用してアクセスできる．\n",
    "\n",
    "配列の先頭要素を書き換えてみよう．"
   ]
  },
  {
   "cell_type": "code",
   "execution_count": 3,
   "id": "2d1f33d2",
   "metadata": {},
   "outputs": [
    {
     "name": "stdout",
     "output_type": "stream",
     "text": [
      "X = Any[\"壱\", \"II\", \"tri\", \"four\"]\n"
     ]
    },
    {
     "data": {
      "text/plain": [
       "4-element Vector{Any}:\n",
       " \"壱\"\n",
       " \"II\"\n",
       " \"tri\"\n",
       " \"four\""
      ]
     },
     "metadata": {},
     "output_type": "display_data"
    }
   ],
   "source": [
    "X[begin] = \"壱\"\n",
    "@show X"
   ]
  },
  {
   "cell_type": "markdown",
   "id": "f8dcc244-b21a-4e50-924c-f0e02e17f49c",
   "metadata": {},
   "source": [
    "## 範囲 (range) による配列アクセス\n",
    "例として，連続する整数からなる配列を考える．"
   ]
  },
  {
   "cell_type": "code",
   "execution_count": 4,
   "id": "1eaddc35-87ee-419b-9ad1-f1bb1e865638",
   "metadata": {},
   "outputs": [
    {
     "data": {
      "text/plain": [
       "9-element Vector{Int64}:\n",
       " 1\n",
       " 2\n",
       " 3\n",
       " 4\n",
       " 5\n",
       " 6\n",
       " 7\n",
       " 8\n",
       " 9"
      ]
     },
     "metadata": {},
     "output_type": "display_data"
    }
   ],
   "source": [
    "# 1:9 は 1 から 9 までの整数の範囲を表す\n",
    "# `collect()` は範囲を配列に変換する関数\n",
    "A = collect(1:9)\n"
   ]
  },
  {
   "cell_type": "markdown",
   "id": "b7018fc6-b852-4ebc-a8f2-e1cc41b650d8",
   "metadata": {},
   "source": [
    "配列の一部分にまとめてアクセスしたい場合は，`A[範囲]`の形で書く．\n",
    "例えば，"
   ]
  },
  {
   "cell_type": "code",
   "execution_count": 5,
   "id": "df10de26",
   "metadata": {},
   "outputs": [
    {
     "data": {
      "text/plain": [
       "5-element Vector{Int64}:\n",
       " 3\n",
       " 4\n",
       " 5\n",
       " 6\n",
       " 7"
      ]
     },
     "metadata": {},
     "output_type": "display_data"
    }
   ],
   "source": [
    "A[3:7]"
   ]
  },
  {
   "cell_type": "markdown",
   "id": "0d30c326",
   "metadata": {},
   "source": [
    "特定の範囲に代入することも可能．"
   ]
  },
  {
   "cell_type": "code",
   "execution_count": 6,
   "id": "589842a6",
   "metadata": {},
   "outputs": [
    {
     "name": "stdout",
     "output_type": "stream",
     "text": [
      "A = [100, 200, 300, 4, 5, 6, 7, 8, 9]\n"
     ]
    },
    {
     "data": {
      "text/plain": [
       "9-element Vector{Int64}:\n",
       " 100\n",
       " 200\n",
       " 300\n",
       "   4\n",
       "   5\n",
       "   6\n",
       "   7\n",
       "   8\n",
       "   9"
      ]
     },
     "metadata": {},
     "output_type": "display_data"
    }
   ],
   "source": [
    "A[1:3] = [100, 200, 300];\n",
    "@show A"
   ]
  },
  {
   "cell_type": "markdown",
   "id": "cf4d3f1d",
   "metadata": {},
   "source": [
    "![array](array.svg)"
   ]
  },
  {
   "cell_type": "markdown",
   "id": "45f743f4-f6e8-4ce7-9c4a-6a8842907b7e",
   "metadata": {},
   "source": [
    "## 配列に関する基本メソッド\n",
    "`A`を配列とする．\n",
    "\n",
    "| コード|  内容 |\n",
    "|------|------|\n",
    "| `A[i]` | `i`番目の要素 |\n",
    "| `A[1]` | 先頭の要素 |\n",
    "| `A[begin]` | 先頭の要素 |\n",
    "| `A[end]` | 末尾の要素 | \n",
    "| `length(A)` | 配列の要素数 |\n",
    "| `sum(A)` | `A`の要素の総和 | \n",
    "|`prod(A)` | `A`の要素の総乗 | \n",
    "| `maximum(A)` | `A`の要素の最大値 | \n",
    "| `minimum(A)` | `A`の要素の最小値 |\n",
    "| `sort(A)` | `A` を降順に並べ替える |\n",
    "| `zeros(n)` | `n`個のゼロからなる配列を生成 |\n",
    "| `ones(n)` | `n`個の`1`からなる配列を生成 |\n",
    "| `fill(n,x)` | `n`個の`x`からなる配列を生成 |\n",
    "\n"
   ]
  },
  {
   "cell_type": "markdown",
   "id": "84a93ccd-6a4d-4f9c-906a-964a395bc72e",
   "metadata": {},
   "source": [
    "## dot 演算子\n",
    "演算子や関数を，配列`A`の要素ごとに作用させたい場合，\n",
    "dot演算子 `.` を用いる．"
   ]
  },
  {
   "cell_type": "code",
   "execution_count": 7,
   "id": "08731f8a-2f03-474d-aab0-c1e57785120f",
   "metadata": {},
   "outputs": [
    {
     "name": "stdout",
     "output_type": "stream",
     "text": [
      "A .^ 2 = [1, 4, 9, 16, 25]\n",
      "sqrt.(A) = [1.0, 1.4142135623730951, 1.7320508075688772, 2.0, 2.23606797749979]\n"
     ]
    }
   ],
   "source": [
    "A = [1, 2, 3, 4, 5]\n",
    "@show A .^ 2     # [1^2, 2^2, 3^2, 4^2, 5^2]\n",
    "@show sqrt.(A);   # [sqrt(1), sqrt(2), sqrt(3),sqrt(4),sqrt(5)]"
   ]
  },
  {
   "cell_type": "markdown",
   "id": "72a6c0e2",
   "metadata": {},
   "source": [
    "## 内包表記 [Comprehensions](https://docs.julialang.org/en/v1/manual/arrays/#man-comprehensions)\n",
    "ブラケット `[ ... ]` の内部に `for` ループを記述することで配列を生成する記述方法を内包表記という．"
   ]
  },
  {
   "cell_type": "code",
   "execution_count": 8,
   "id": "c117f7c5",
   "metadata": {},
   "outputs": [
    {
     "data": {
      "text/plain": [
       "5-element Vector{Int64}:\n",
       "  1\n",
       "  4\n",
       "  9\n",
       " 16\n",
       " 25"
      ]
     },
     "metadata": {},
     "output_type": "display_data"
    }
   ],
   "source": [
    "[i^2 for i in 1:5]  # =[1^2, 2^2, 3^2, 4^2, 5^2]"
   ]
  },
  {
   "cell_type": "markdown",
   "id": "d039d754",
   "metadata": {},
   "source": [
    "for文のあとにif文を追加することで，条件を満たすものだけ抽出することができる．"
   ]
  },
  {
   "cell_type": "code",
   "execution_count": 9,
   "id": "6a8abcfd",
   "metadata": {},
   "outputs": [
    {
     "data": {
      "text/plain": [
       "5-element Vector{Int64}:\n",
       "  2\n",
       "  4\n",
       "  6\n",
       "  8\n",
       " 10"
      ]
     },
     "metadata": {},
     "output_type": "display_data"
    }
   ],
   "source": [
    "[i for i in 1:10 if i % 2 == 0]  # 偶数の配列"
   ]
  },
  {
   "cell_type": "markdown",
   "id": "e8b0eb3b",
   "metadata": {},
   "source": [
    "ちなみに範囲を使って次のように書くこともできる．"
   ]
  },
  {
   "cell_type": "code",
   "execution_count": 10,
   "id": "b30d317e",
   "metadata": {},
   "outputs": [
    {
     "data": {
      "text/plain": [
       "5-element Vector{Int64}:\n",
       "  2\n",
       "  4\n",
       "  6\n",
       "  8\n",
       " 10"
      ]
     },
     "metadata": {},
     "output_type": "display_data"
    }
   ],
   "source": [
    "collect(2:2:10)  # 2 から 10 までの範囲で 2 ずつ増加する．真ん中の2が増分を表す．"
   ]
  },
  {
   "cell_type": "markdown",
   "id": "9178ddd3",
   "metadata": {},
   "source": [
    "## 内包表記に関するTips\n",
    "\n",
    "$1+2+\\cdots+99+100 = 5050$ を計算するには，\n",
    " `sum()`関数を用いて，次を実行すればよい．"
   ]
  },
  {
   "cell_type": "code",
   "execution_count": 11,
   "id": "b45562c7",
   "metadata": {},
   "outputs": [
    {
     "name": "stdout",
     "output_type": "stream",
     "text": [
      "  0.000000 seconds\n"
     ]
    },
    {
     "data": {
      "text/plain": [
       "5050"
      ]
     },
     "metadata": {},
     "output_type": "display_data"
    }
   ],
   "source": [
    "@time sum(i for i in 1:100)"
   ]
  },
  {
   "cell_type": "markdown",
   "id": "67de653b",
   "metadata": {},
   "source": [
    "`@time` は実行時間とメモリアロケーション（割り当て）を表示するマクロである．    \n",
    "経過時間は 0[s] と表示されているのは，実行が一瞬で終わり，計測精度を超えたためと思われる．  \n",
    "経過時間以外に何もされていないのは，メモリの確保が行われなかったことを表している．\n",
    "\n",
    "以下のように `[...]` で囲って書いても同じ結果が得られるが，配列が生成される分だけ効率が悪い．\n"
   ]
  },
  {
   "cell_type": "code",
   "execution_count": 12,
   "id": "ef6aebcb",
   "metadata": {},
   "outputs": [
    {
     "name": "stdout",
     "output_type": "stream",
     "text": [
      "  0.000007 seconds (2 allocations: 928 bytes)\n"
     ]
    },
    {
     "data": {
      "text/plain": [
       "5050"
      ]
     },
     "metadata": {},
     "output_type": "display_data"
    }
   ],
   "source": [
    "@time sum([i for i in 1:100])"
   ]
  },
  {
   "cell_type": "markdown",
   "id": "68f2636b",
   "metadata": {},
   "source": [
    "`2 allocations: 928 bytes`  は メモリ確保が2回行われ，その総容量が928バイトであることを示している．"
   ]
  }
 ],
 "metadata": {
  "kernelspec": {
   "display_name": "Julia 1.11.2",
   "language": "julia",
   "name": "julia-1.11"
  },
  "language_info": {
   "file_extension": ".jl",
   "mimetype": "application/julia",
   "name": "julia",
   "version": "1.11.2"
  }
 },
 "nbformat": 4,
 "nbformat_minor": 5
}
